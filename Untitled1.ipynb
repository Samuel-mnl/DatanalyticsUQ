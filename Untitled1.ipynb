{
  "nbformat": 4,
  "nbformat_minor": 0,
  "metadata": {
    "colab": {
      "provenance": [],
      "authorship_tag": "ABX9TyOTNrjPg9ckrKJ4JpSJiNny",
      "include_colab_link": true
    },
    "kernelspec": {
      "name": "python3",
      "display_name": "Python 3"
    },
    "language_info": {
      "name": "python"
    }
  },
  "cells": [
    {
      "cell_type": "markdown",
      "metadata": {
        "id": "view-in-github",
        "colab_type": "text"
      },
      "source": [
        "<a href=\"https://colab.research.google.com/github/Samuel-mnl/DatanalyticsUQ/blob/main/Untitled1.ipynb\" target=\"_parent\"><img src=\"https://colab.research.google.com/assets/colab-badge.svg\" alt=\"Open In Colab\"/></a>"
      ]
    },
    {
      "cell_type": "code",
      "execution_count": null,
      "metadata": {
        "colab": {
          "base_uri": "https://localhost:8080/"
        },
        "id": "rTJbOmj28p0b",
        "outputId": "76878078-710c-4597-fdaa-5cab5051ba9a"
      },
      "outputs": [
        {
          "output_type": "stream",
          "name": "stdout",
          "text": [
            "True\n"
          ]
        }
      ],
      "source": [
        "#Este es el primer codigo\n",
        "Esverdad= True\n",
        "print(Esverdad)"
      ]
    },
    {
      "cell_type": "code",
      "source": [
        "#Prueba\n",
        "Estoesunaprueba= False\n",
        "print(Estoesunaprueba)"
      ],
      "metadata": {
        "id": "dZgT8mDD9IxN",
        "colab": {
          "base_uri": "https://localhost:8080/"
        },
        "outputId": "b4e6cca5-cf9f-41d1-8dbf-3432b4643c27"
      },
      "execution_count": null,
      "outputs": [
        {
          "output_type": "stream",
          "name": "stdout",
          "text": [
            "False\n"
          ]
        }
      ]
    },
    {
      "cell_type": "code",
      "source": [
        "otrodiccionario= {1 : [1,2,3,4,5],\n",
        "                 2 : [5,6,7,8,9] ,\n",
        "                 3  : {1:2,2:3}\n",
        "                  }"
      ],
      "metadata": {
        "id": "iCwtL1SLBR3S"
      },
      "execution_count": null,
      "outputs": []
    },
    {
      "cell_type": "code",
      "source": [
        "#Para sacar el nùmero 3 del 3:\n",
        "otrodiccionario[3][2]"
      ],
      "metadata": {
        "colab": {
          "base_uri": "https://localhost:8080/"
        },
        "id": "3v4J8u7NElCz",
        "outputId": "99c4a052-b2fa-4129-f8e3-291d2bd7226a"
      },
      "execution_count": null,
      "outputs": [
        {
          "output_type": "execute_result",
          "data": {
            "text/plain": [
              "3"
            ]
          },
          "metadata": {},
          "execution_count": 20
        }
      ]
    },
    {
      "cell_type": "code",
      "source": [
        "diccionario_complejo = { 1 : [1,2,3,4,5,[5,6,7,8,9,[6,7,8]]],\n",
        "2: [5,6,7,8,9],\n",
        "3: {1:2,2:3,6:[9,10,'extraer este valor']}\n",
        "}"
      ],
      "metadata": {
        "id": "uHKw4OXLGRtP"
      },
      "execution_count": null,
      "outputs": []
    },
    {
      "cell_type": "code",
      "source": [
        "diccionario_complejo[1][5][5][2]"
      ],
      "metadata": {
        "colab": {
          "base_uri": "https://localhost:8080/"
        },
        "id": "MK4xNrvJHquv",
        "outputId": "054b5194-82be-4349-dda8-8dfabde0f239"
      },
      "execution_count": 47,
      "outputs": [
        {
          "output_type": "execute_result",
          "data": {
            "text/plain": [
              "8"
            ]
          },
          "metadata": {},
          "execution_count": 47
        }
      ]
    },
    {
      "cell_type": "code",
      "source": [
        "# Por medio de condicionales crear un sistema de clasificacion\n",
        "#Crear un diccionario donde van a guardar los nombre y la nota de 5 estudiantes\n",
        "#por medio de condicionales van a crear un sistema que peremit definir si la persona gaano o perdio la materia y si tiene derecho a habilitar o no"
      ],
      "metadata": {
        "id": "XCinFmaPIIUt"
      },
      "execution_count": null,
      "outputs": []
    },
    {
      "cell_type": "code",
      "source": [
        "# Crear el diccionario con los nombres y las notas de 5 estudiantes\n",
        "estudiantes = {\n",
        "    \"Juan\": 4.5,\n",
        "    \"Ana\": 3.8,\n",
        "    \"Carlos\": 2.0,\n",
        "    \"Maria\": 4.9,\n",
        "    \"Luis\": 5.0\n",
        "}\n",
        "\n",
        "# Function to classify students' performance\n",
        "def clasificar_estudiantes(estudiantes):\n",
        "    for nombre, nota in estudiantes.items():\n",
        "        if nota >= 3.0:\n",
        "            print(f\"{nombre} ganó la materia con una nota de {nota}. No necesita habilitar.\")\n",
        "        elif 2.5 <= nota < 3.0:\n",
        "            print(f\"{nombre} perdió la materia con una nota de {nota}. Tiene derecho a habilitar.\")\n",
        "        else:\n",
        "            print(f\"{nombre} perdió la materia con una nota de {nota}. No tiene derecho a habilitar.\")\n",
        "\n",
        "# Delete the 'print' variable to avoid conflict with the built-in function\n",
        "if 'print' in locals():\n",
        "    del print\n",
        "\n",
        "# Call the function to classify\n",
        "clasificar_estudiantes(estudiantes)"
      ],
      "metadata": {
        "colab": {
          "base_uri": "https://localhost:8080/"
        },
        "id": "mfvobvmJOH4p",
        "outputId": "5996f600-763f-46bc-dcd4-e7fe6569545d"
      },
      "execution_count": 49,
      "outputs": [
        {
          "output_type": "stream",
          "name": "stdout",
          "text": [
            "Juan ganó la materia con una nota de 4.5. No necesita habilitar.\n",
            "Ana ganó la materia con una nota de 3.8. No necesita habilitar.\n",
            "Carlos perdió la materia con una nota de 2.0. No tiene derecho a habilitar.\n",
            "Maria ganó la materia con una nota de 4.9. No necesita habilitar.\n",
            "Luis ganó la materia con una nota de 5.0. No necesita habilitar.\n"
          ]
        }
      ]
    }
  ]
}
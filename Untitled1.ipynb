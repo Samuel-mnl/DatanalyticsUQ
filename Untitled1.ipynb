{
  "nbformat": 4,
  "nbformat_minor": 0,
  "metadata": {
    "colab": {
      "provenance": [],
      "authorship_tag": "ABX9TyOmu7G+4AoBK6JR99uRnqoE",
      "include_colab_link": true
    },
    "kernelspec": {
      "name": "python3",
      "display_name": "Python 3"
    },
    "language_info": {
      "name": "python"
    }
  },
  "cells": [
    {
      "cell_type": "markdown",
      "metadata": {
        "id": "view-in-github",
        "colab_type": "text"
      },
      "source": [
        "<a href=\"https://colab.research.google.com/github/Samuel-mnl/DatanalyticsUQ/blob/main/Untitled1.ipynb\" target=\"_parent\"><img src=\"https://colab.research.google.com/assets/colab-badge.svg\" alt=\"Open In Colab\"/></a>"
      ]
    },
    {
      "cell_type": "code",
      "execution_count": null,
      "metadata": {
        "colab": {
          "base_uri": "https://localhost:8080/"
        },
        "id": "rTJbOmj28p0b",
        "outputId": "76878078-710c-4597-fdaa-5cab5051ba9a"
      },
      "outputs": [
        {
          "output_type": "stream",
          "name": "stdout",
          "text": [
            "True\n"
          ]
        }
      ],
      "source": [
        "#Este es el primer codigo\n",
        "Esverdad= True\n",
        "print(Esverdad)"
      ]
    },
    {
      "cell_type": "code",
      "source": [
        "#Cual es la edad\n",
        "Edad= 35\n",
        "print(Edad)"
      ],
      "metadata": {
        "id": "dZgT8mDD9IxN",
        "outputId": "648f2f8b-2e37-4657-ebc3-353987cd2319",
        "colab": {
          "base_uri": "https://localhost:8080/"
        }
      },
      "execution_count": 2,
      "outputs": [
        {
          "output_type": "stream",
          "name": "stdout",
          "text": [
            "35\n"
          ]
        }
      ]
    },
    {
      "cell_type": "code",
      "source": [],
      "metadata": {
        "id": "A3RHftXjCUKS"
      },
      "execution_count": null,
      "outputs": []
    }
  ]
}